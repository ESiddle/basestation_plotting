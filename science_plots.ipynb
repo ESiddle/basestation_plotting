{
 "cells": [
  {
   "cell_type": "code",
   "execution_count": null,
   "id": "513c2b32-37c4-4a79-9242-6d26e4f7b1d2",
   "metadata": {},
   "outputs": [],
   "source": [
    "import xarray as xr\n",
    "from cmocean import cm as cmo\n",
    "import matplotlib.pyplot as plt\n",
    "import matplotlib.dates as mdates"
   ]
  },
  {
   "cell_type": "code",
   "execution_count": null,
   "id": "1179306e-f17a-4032-b16e-75887f1e2e3b",
   "metadata": {},
   "outputs": [],
   "source": [
    "ds = xr.open_dataset('sg579_EUREC4A_1.0m_up_and_down_profile.nc')\n",
    "ds"
   ]
  },
  {
   "cell_type": "code",
   "execution_count": null,
   "id": "94611793-963f-4449-b2f2-988f48b231cf",
   "metadata": {},
   "outputs": [],
   "source": [
    "profile_time = ds.ctd_time.mean(axis=1).data # average time per profile\n",
    "ds = ds.assign_coords(profile_time=(\"profile\", profile_time)) # assign this as a new coordinate called profile_time\n",
    "ds.profile_time.attrs =  {'comment': 'Mean time of CTD profile', # add essential metadata, or xarray won't plot it\n",
    " 'standard_name': 'time',\n",
    " 'axis': 'profile'}"
   ]
  },
  {
   "cell_type": "code",
   "execution_count": null,
   "id": "72a7143e",
   "metadata": {},
   "outputs": [],
   "source": [
    "def prepare_for_plotting(dataset, variable):\n",
    "    \"\"\"Prepare variable for plotting by:\n",
    "    1. Removing outliers more than 3 std dev from the mean\n",
    "    2. Interpolating over nans\n",
    "    \"\"\"\n",
    "    data = ds[variable].data\n",
    "    # Copy some of the cleaning functionality from GliderTools and use it here\n",
    "    # https://github.com/GliderToolsCommunity/GliderTools/blob/master/glidertools/cleaning.py\n",
    "    # e.g. remove data more than 2 standard deviations from the mean\n",
    "    \n",
    "    from numpy import array, nan, nanmean, nanstd\n",
    "    arr = data\n",
    "\n",
    "    mean = nanmean(arr)\n",
    "    std = nanstd(arr)\n",
    "    \n",
    "    multiplier = 3\n",
    "    ll = mean - std * multiplier\n",
    "    ul = mean + std * multiplier\n",
    "\n",
    "    mask = (arr < ll) | (arr > ul)\n",
    "    arr[mask] = nan\n",
    "    \n",
    "    ds[variable].data = data\n",
    "    return dataset"
   ]
  },
  {
   "cell_type": "code",
   "execution_count": null,
   "id": "89ec2cff-71e8-476f-98b0-0a7ee6d5f2a4",
   "metadata": {},
   "outputs": [],
   "source": [
    "# define a basic plotting function for the profiles\n",
    "def plotter(dataset, variable,colourmap,title):\n",
    "    \"\"\"TODO: doc string here\"\"\"\n",
    "    fig, ax = plt.subplots()\n",
    "    #xr.plot.pcolormesh(darray = ds, x = 'profile_time', y = 'depth', z = variable, cmap = colourmap)\n",
    "    dataset = prepare_for_plotting(dataset, variable)\n",
    "    dataset[variable].T.plot(yincrease=False, y=\"depth\", x=\"profile_time\", cmap = colourmap)\n",
    "    ax.set_title(str(title))\n",
    "    plt.tight_layout()\n",
    "    ax.xaxis.set_major_formatter(mdates.DateFormatter('%d/%m')) # sets x tick format\n",
    "    return fig, ax"
   ]
  },
  {
   "cell_type": "code",
   "execution_count": null,
   "id": "62357e03-f41d-4a51-bd2c-8ea3d3ab2dc9",
   "metadata": {},
   "outputs": [],
   "source": [
    "a = list(ds.keys()) # list data variables in ds"
   ]
  },
  {
   "cell_type": "code",
   "execution_count": null,
   "id": "1f862d9f-683c-474b-8888-59fe26fff706",
   "metadata": {},
   "outputs": [],
   "source": [
    "# list of variables from old matlab script that may come from glider\n",
    "glider_variables = ('temp','temperature','conductivity','salinity','sigma_theta','dissolved_oxygen_sat',\n",
    "'eng_aa4330_O2','eng_aa4330F_O2','eng_aa1_O2','eng_aa807_O2','eng_aa4831_O2','contopt_instrument_dissolved_oxygen','contopt_dissolved_oxygen',\n",
    "'eng_aa4330_Temp','eng_aa4330F_Temp','eng_aa1_Temp','eng_aa807_Temp','eng_aa4831_Temp','eng_contopt_Temp', 'eng_contopt_pO2',\n",
    "'eng_wl_sig1','eng_wl1_sig1','eng_wl_Chlsig1','eng_wl1_Chlsig1','eng_wl_Cdomsig1','eng_wl1_Cdomsig1',\n",
    "'eng_phfl_raw_data','eng_phfl_pHcalib','eng_phfl_Temp',\n",
    "'eng_ph_pH','eng_ph_pCO2','eng_ph_temp_pH',\n",
    "'eng_qsp144_PARuV','eng_qsp1_PARuV','eng_qsp_PARuV','eng_qsp_PARuV','eng_qsp1_PARuv',\n",
    "'eng_wlbbfl2vmt_wl600sig','eng_wlbbfl2vmt_wl650sig','eng_wlbbfl2vmt_Cdomsig','eng_wlbbfl2vmt_Chlsig',\n",
    "'eng_wl1_sig1','eng_wl1_Chlsig1','eng_wl1_Cdomsig1',\n",
    "'eng_wl836_sig1','eng_wl836_Chlsig1','eng_wl836_Cdomsig1',\n",
    "'eng_wlbb2fl_BB1sig','eng_wlbb2fl_BB2sig','eng_wlbb2fl_FL1sig',\n",
    "'eng_wlbbfl2_BB1sig','eng_wlbbfl2_FL1sig','eng_wlbbfl2_FL2sig',\n",
    "'eng_wlseaowl_FL1sig','eng_wlseaowl_BB1sig','eng_wlseaowl_FDOMsig')"
   ]
  },
  {
   "cell_type": "code",
   "execution_count": null,
   "id": "6bd3c22c-fe1d-43cb-af63-b3ed11c718eb",
   "metadata": {},
   "outputs": [],
   "source": [
    "#create dictionary to match each variable in glider_variables to a colourmap\n",
    "dict = {'temp':cmo.thermal,'temperature':cmo.thermal,'conductivity':cmo.haline,'salinity':cmo.haline,'sigma_theta':cmo.dense,'dissolved_oxygen_sat':cmo.oxy,\n",
    "'eng_aa4330_O2':cmo.oxy,'eng_aa4330F_O2':cmo.oxy,'eng_aa1_O2':cmo.oxy,'eng_aa807_O2':cmo.oxy,'eng_aa4831_O2':cmo.oxy,\n",
    "'contopt_instrument_dissolved_oxygen':cmo.oxy,'contopt_dissolved_oxygen':cmo.oxy,\n",
    "'eng_aa4330_Temp':cmo.thermal,'eng_aa4330F_Temp':cmo.thermal,'eng_aa1_Temp':cmo.thermal,'eng_aa807_Temp':cmo.thermal,'eng_aa4831_Temp':cmo.thermal,\n",
    "'eng_contopt_Temp':cmo.thermal, 'eng_contopt_pO2':cmo.oxy, 'eng_wl_sig1': cmo.gray,'eng_wl1_sig1': cmo.gray,'eng_wl_Chlsig1': cmo.algae,\n",
    "'eng_wl1_Chlsig1': cmo.algae,'eng_wl_Cdomsig1': cmo.gray,'eng_wl1_Cdomsig1': cmo.gray,\n",
    "'eng_phfl_raw_data': cmo.gray,'eng_phfl_pHcalib': cmo.gray,'eng_phfl_Temp': cmo.gray,\n",
    "'eng_ph_pH': cmo.gray,'eng_ph_pCO2': cmo.gray,'eng_ph_temp_pH': cmo.gray,\n",
    "'eng_qsp144_PARuV': cmo.gray,'eng_qsp1_PARuV': cmo.gray,'eng_qsp_PARuV': cmo.gray,'eng_qsp_PARuV': cmo.gray,'eng_qsp1_PARuv': cmo.gray,\n",
    "'eng_wlbbfl2vmt_wl600sig': cmo.gray,'eng_wlbbfl2vmt_wl650sig': cmo.gray,'eng_wlbbfl2vmt_Cdomsig': cmo.gray,'eng_wlbbfl2vmt_Chlsig': cmo.gray,\n",
    "'eng_wl1_sig1': cmo.gray,'eng_wl1_Chlsig1': cmo.gray,'eng_wl1_Cdomsig1': cmo.gray,\n",
    "'eng_wl836_sig1': cmo.gray,'eng_wl836_Chlsig1': cmo.gray,'eng_wl836_Cdomsig1': cmo.gray,\n",
    "'eng_wlbb2fl_BB1sig': cmo.gray,'eng_wlbb2fl_BB2sig': cmo.gray,'eng_wlbb2fl_FL1sig': cmo.gray,\n",
    "'eng_wlbbfl2_BB1sig': cmo.gray,'eng_wlbbfl2_FL1sig': cmo.gray,'eng_wlbbfl2_FL2sig': cmo.gray,\n",
    "'eng_wlseaowl_FL1sig': cmo.gray,'eng_wlseaowl_BB1sig': cmo.gray,'eng_wlseaowl_FDOMsig': cmo.gray}\n",
    "\n",
    "#variables assigned to cmo.gray are yet to be assigned to the appropriate colormap"
   ]
  },
  {
   "cell_type": "code",
   "execution_count": null,
   "id": "f966adca-4a4e-49d8-8be3-c2ecf17b8e2b",
   "metadata": {},
   "outputs": [],
   "source": [
    "to_plot  = list(set(a).intersection(glider_variables)) # find elements in glider_variables relevant to this dataset"
   ]
  },
  {
   "cell_type": "code",
   "execution_count": null,
   "id": "502e87cb-9a61-4e3d-a649-cdd4eec48cb3",
   "metadata": {},
   "outputs": [],
   "source": [
    "for i in range(len(to_plot)):\n",
    "    plotter(ds, to_plot[i], dict[to_plot[i]], to_plot[i])"
   ]
  },
  {
   "cell_type": "code",
   "execution_count": null,
   "id": "e9e12dd6-de2c-471b-8494-7772aa6faf69",
   "metadata": {},
   "outputs": [],
   "source": []
  }
 ],
 "metadata": {
  "kernelspec": {
   "display_name": "Python 3",
   "language": "python",
   "name": "python3"
  },
  "language_info": {
   "codemirror_mode": {
    "name": "ipython",
    "version": 3
   },
   "file_extension": ".py",
   "mimetype": "text/x-python",
   "name": "python",
   "nbconvert_exporter": "python",
   "pygments_lexer": "ipython3",
   "version": "3.9.7"
  }
 },
 "nbformat": 4,
 "nbformat_minor": 5
}
